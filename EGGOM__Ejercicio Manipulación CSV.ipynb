{
 "cells": [
  {
   "cell_type": "markdown",
   "metadata": {},
   "source": [
    "#### Solución mía"
   ]
  },
  {
   "cell_type": "code",
   "execution_count": 147,
   "metadata": {},
   "outputs": [],
   "source": [
    "# Importo el módulo CSV y counter\n",
    "import csv\n",
    "from collections import Counter\n",
    "\n",
    "# Creo los objetos\n",
    "#file\n",
    "fileObj = open (\"../eggomPY_Datasets/PitchingPost/PitchingPost.csv\")\n",
    "#reader\n",
    "rObj = csv.reader(fileObj)\n",
    "\n",
    "#Meto los datos de las filas de file en la lista 'data'\n",
    "data = list(rObj)\n",
    "\n",
    "i=-1\n",
    "\n",
    "# Lista vacía para guardar los años\n",
    "li_years = []\n",
    "\n",
    "# Lista vacía para guardar los jugadores\n",
    "li_players = []\n",
    "\n",
    "#Relleno las listas\n",
    "for fila in data:\n",
    "    li_players.append(fila[0])\n",
    "    li_years.append(fila[1])\n",
    "    \n",
    "# Quito los primeros elementos de la lista que son los headers:\n",
    "li_players.remove(li_players[0])\n",
    "li_years.remove(li_years[0])\n",
    "\n",
    "# Creo lista con las frecuencias\n",
    "li_yrs_freq = list(dict(Counter(li_years)).values())\n",
    "li_players_freq = list(dict(Counter(li_players)).values())\n",
    "\n",
    "# Creo zips con los años y freq y jugadores y freq\n",
    "li_zip_yrs_freq = list(zip(li_years,li_yrs_freq))\n",
    "li_zip_players_freq = list(zip(li_players,li_players_freq))\n",
    "\n",
    "# Escribo los valores de las listas de zips en los ficheros:\n",
    "\n",
    "outputFileObj = open (\"../eggomPY_Datasets/PitchingPost/AcumAnnos_eggom.csv\", 'w')\n",
    "wObj = csv.writer(outputFileObj)\n",
    "wObj.writerow([\"Año\",\"Frecuencia\"])\n",
    "for i in range(len(li_zip_yrs_freq)):\n",
    "    wObj.writerow(li_zip_yrs_freq[i])\n",
    "outputFileObj.close()\n",
    "\n",
    "outputFileObj = open (\"../eggomPY_Datasets/PitchingPost/AcumJugadores_eggom.csv\", 'w')\n",
    "wObj = csv.writer(outputFileObj)\n",
    "wObj.writerow([\"Jugador\",\"Frecuencia\"])\n",
    "for i in range(len(li_zip_players_freq)):\n",
    "    wObj.writerow(li_zip_players_freq[i])\n",
    "outputFileObj.close()"
   ]
  },
  {
   "cell_type": "markdown",
   "metadata": {},
   "source": [
    "#### Solución Máster"
   ]
  },
  {
   "cell_type": "code",
   "execution_count": 148,
   "metadata": {},
   "outputs": [],
   "source": [
    "# Función que escribe un diccionario en un fichero CSV, con el nombre que recibe.\n",
    "\n",
    "def escribe(mapa, fileName):\n",
    "\n",
    "    outputFileObj=open(fileName, \"w\")\n",
    "\n",
    "    wObj = csv.writer(outputFileObj)\n",
    "\n",
    "    for key in mapa:\n",
    "\n",
    "        wObj.writerow([key,mapa.get(key)])\n",
    "\n",
    "    outputFileObj.close()\n",
    "\n",
    "    print ('Archivo ' + fileName + ' creado con exito.')"
   ]
  },
  {
   "cell_type": "code",
   "execution_count": 149,
   "metadata": {},
   "outputs": [],
   "source": [
    "# Función que, dado el nombre de una columna, contabiliza las veces que aparece cada término de esa columna en el archivo \n",
    "# \"PitchingPost.csv\"\n",
    "\n",
    "def frequency(column_name, outputFileName, inputFileName):\n",
    "\n",
    "    error = False\n",
    "\n",
    "    mapa = {}\n",
    "\n",
    "    try:\n",
    "\n",
    "        fileObj=open(inputFileName)\n",
    "\n",
    "    except IOError:      \n",
    "\n",
    "        error = True\n",
    "\n",
    "        print (\"Error al intentar abrir el archivo pasado por parámetro.\")\n",
    "\n",
    "    if (error == False):\n",
    "\n",
    "        rObj=csv.reader(fileObj)\n",
    "\n",
    "        data=list(rObj)\n",
    "\n",
    "        for i in range(data[0].index(column_name), len(data)):\n",
    "\n",
    "            key=str(data[i][data[0].index(column_name)])         \n",
    "\n",
    "            if mapa.get(key):\n",
    "\n",
    "                mapa[key]=mapa[key]+1\n",
    "\n",
    "            else:\n",
    "\n",
    "                mapa[key]=1\n",
    "\n",
    "        file.close()\n",
    "\n",
    "        escribe (mapa, outputFileName)"
   ]
  },
  {
   "cell_type": "code",
   "execution_count": 150,
   "metadata": {},
   "outputs": [],
   "source": [
    "# Función que ordena:\n",
    "\n",
    "def ordena(inputFileName, outputFileName):\n",
    "\n",
    "    error = False\n",
    "\n",
    "    try:\n",
    "\n",
    "        fileObj=open(inputFileName)\n",
    "\n",
    "    except IOError:\n",
    "\n",
    "        error = True\n",
    "\n",
    "        print (\"Error al intentar abrir el archivo \\\"PitchingPost.csv\\\".\")\n",
    "\n",
    "    if (error == False):\n",
    "\n",
    "        rObj=csv.reader(fileObj)\n",
    "\n",
    "        lista = []\n",
    "\n",
    "        for linea in rObj:\n",
    "\n",
    "            lista.append(linea)\n",
    "\n",
    "        fileObj.close()          \n",
    "\n",
    "        lista.sort()\n",
    "\n",
    "        outputFileObj=open(OuputFileName, \"w\")\n",
    "\n",
    "        wObj = csv.writer(outputFileObj)\n",
    "\n",
    "        for linea in lista:\n",
    "\n",
    "            wObj.writerow(linea)\n",
    "\n",
    "        outputFileObj.close()\n",
    "\n",
    "        print (\"Archivo \\\"PitchingPost\\\" ordenado con exito.\")"
   ]
  },
  {
   "cell_type": "code",
   "execution_count": 151,
   "metadata": {},
   "outputs": [
    {
     "name": "stdout",
     "output_type": "stream",
     "text": [
      "Archivo ../eggomPY_Datasets/PitchingPost/AcumAnnos.csv creado con exito.\n"
     ]
    }
   ],
   "source": [
    "frequency(\"yearID\",\n",
    "          \"../eggomPY_Datasets/PitchingPost/AcumAnnos.csv\",\n",
    "          \"../eggomPY_Datasets/PitchingPost/PitchingPost.csv\")"
   ]
  },
  {
   "cell_type": "code",
   "execution_count": null,
   "metadata": {},
   "outputs": [],
   "source": []
  }
 ],
 "metadata": {
  "kernelspec": {
   "display_name": "Python 3",
   "language": "python",
   "name": "python3"
  },
  "language_info": {
   "codemirror_mode": {
    "name": "ipython",
    "version": 3
   },
   "file_extension": ".py",
   "mimetype": "text/x-python",
   "name": "python",
   "nbconvert_exporter": "python",
   "pygments_lexer": "ipython3",
   "version": "3.7.3"
  }
 },
 "nbformat": 4,
 "nbformat_minor": 2
}
