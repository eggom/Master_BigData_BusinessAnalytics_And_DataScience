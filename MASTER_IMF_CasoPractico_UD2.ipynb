{
 "cells": [
  {
   "cell_type": "code",
   "execution_count": 3,
   "metadata": {},
   "outputs": [
    {
     "name": "stdout",
     "output_type": "stream",
     "text": [
      "Texto a cifrar: Hola\n",
      "Desplazamiento letra: 26\n",
      "Hola\n"
     ]
    }
   ],
   "source": [
    "#Función que cifra \n",
    "def convertir(text,desp):\n",
    "    resul = \"\"\n",
    "    for car in text: #Itera cada letra del texto\n",
    "        if car.isalpha(): #Si es carácter, se sustituye la letra\n",
    "            if car.islower():\n",
    "                resul += chr((ord(car) - 97 + int(desp)) % 26 + 97)\n",
    "            if car.isupper():\n",
    "                resul += chr((ord(car) - 65 + int(desp)) % 26 + 65)    \n",
    "        else: #No se sustituyen otros símbolos, pertecen igual\n",
    "            resul += car\n",
    "    return resul    \n",
    "\n",
    "if __name__ == \"__main__\":\t# programa principal\n",
    "    texto = input(\"Texto a cifrar: \")\n",
    "    desp = input(\"Desplazamiento letra: \")\n",
    "    if desp.isdigit():\n",
    "        cifrado = convertir(texto,desp)\n",
    "        print (cifrado)\n",
    "    else:\n",
    "        print (\"El desplazamiento ha de ser un digito\")\n"
   ]
  },
  {
   "cell_type": "code",
   "execution_count": null,
   "metadata": {},
   "outputs": [],
   "source": []
  }
 ],
 "metadata": {
  "kernelspec": {
   "display_name": "Python 3",
   "language": "python",
   "name": "python3"
  },
  "language_info": {
   "codemirror_mode": {
    "name": "ipython",
    "version": 3
   },
   "file_extension": ".py",
   "mimetype": "text/x-python",
   "name": "python",
   "nbconvert_exporter": "python",
   "pygments_lexer": "ipython3",
   "version": "3.7.3"
  }
 },
 "nbformat": 4,
 "nbformat_minor": 2
}
